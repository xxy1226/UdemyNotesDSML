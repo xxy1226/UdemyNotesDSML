{
 "cells": [
  {
   "cell_type": "markdown",
   "metadata": {},
   "source": [
    "<code>  ┌─────────────────┐</code>  \n",
    "<code>┌→│ Data Collection │</code>  \n",
    "<code>│ └─────────────────┙</code>  \n",
    "<code>│          ↑</code>  \n",
    "<code>│          │</code>  \n",
    "<code>│          ↓</code>  \n",
    "<code>│ ┌─────────────────┐       What problem are         What data      What defines       What features      What kind of model      What have we tried?</code>  \n",
    "<code>│ │ Data Modelling  │ ──→  we trying to solve?  ──→ do we have? ──→     succes    ──→ should we model ──→   should we use?   ──→ what else can we try?  ─┐</code>  \n",
    "<code>│ └─────────────────┙     1. Problem definition       2. Data       3. Evaluation       4. Features          5. Modelling          6. Experiments        │</code>  \n",
    "<code>│          ↑                        ↑                                                                                                                    │</code>  \n",
    "<code>│          │                        └─────────────────────────────────────────────────Iterating process──────────────────────────────────────────────────┙</code>  \n",
    "<code>│          ↓</code>  \n",
    "<code>│ ┌─────────────────┐</code>  \n",
    "<code>└→│   Deployment    │</code>  \n",
    "<code>  └─────────────────┙</code>  "
   ]
  },
  {
   "cell_type": "markdown",
   "metadata": {},
   "source": [
    "## 1. Problem definition\n",
    "\"What problem are we trying to solve?\"\n",
    "  \n",
    "* Supervised\n",
    "* Unsupervised\n",
    "  \n",
    "  \n",
    "* Classification\n",
    "* Regression"
   ]
  }
 ],
 "metadata": {
  "language_info": {
   "name": "python"
  }
 },
 "nbformat": 4,
 "nbformat_minor": 2
}
