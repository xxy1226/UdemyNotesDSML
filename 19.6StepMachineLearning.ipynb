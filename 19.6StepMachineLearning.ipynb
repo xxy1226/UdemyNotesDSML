{
 "cells": [
  {
   "cell_type": "markdown",
   "metadata": {},
   "source": [
    "<code>  ┌───────────────────┐</code>  \n",
    "<code>┌→│  Data Collection  │</code>  \n",
    "<code>│ └───────────────────┙</code>  \n",
    "<code>│           ↑</code>  \n",
    "<code>│           │</code>  \n",
    "<code>│           ↓</code>  \n",
    "<code>│ ┌───────────────────┐</code>  \n",
    "<code>│ │  Data Modelling   │</code>  \n",
    "<code>│ └───────────────────┙</code>  \n",
    "<code>│           ↑</code>  \n",
    "<code>│           │</code>  \n",
    "<code>│           ↓</code>  \n",
    "<code>│ ┌───────────────────┐</code>  \n",
    "<code>└→│    Deployment     │</code>  \n",
    "<code>  └───────────────────┙</code>  \n",
    "\n",
    "┌\n",
    "│\n",
    "─\n",
    "┐\n",
    "└\n",
    "┙\n",
    "→\n",
    "↑\n",
    "↓"
   ]
  }
 ],
 "metadata": {
  "language_info": {
   "name": "python"
  }
 },
 "nbformat": 4,
 "nbformat_minor": 2
}
