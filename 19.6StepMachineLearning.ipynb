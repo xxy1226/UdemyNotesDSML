{
 "cells": [
  {
   "cell_type": "markdown",
   "metadata": {},
   "source": [
    "<code>         ┌───────────────────────────────────────────────┐</code>  \n",
    "<code>         ↓                                               ↓</code>  \n",
    "<code>┌─────────────────┐     ┌─────────────────┐     ┌─────────────────┐</code>  \n",
    "<code>│ Data Collection │ ←─→ │ Data Modelling  │ ←─→ │   Deployment    │</code>  \n",
    "<code>└─────────────────┙     └─────────────────┙     └─────────────────┙</code>  \n",
    "<code>                                 │</code>  \n",
    "<code>                                 │</code>  \n",
    "<code>                                 ↓</code>  \n",
    "<code>                          What problem are</code>  \n",
    "<code>           ┌───────→     we trying to solve?</code>  \n",
    "<code>           │            1. Problem definition</code>  \n",
    "<code>           │                     │</code>  \n",
    "<code>           │                     │</code>  \n",
    "<code>           │                     ↓</code> \n",
    "<code>           │                 What data</code>  \n",
    "<code>           │                do we have?</code>  \n",
    "<code>           │                  2. Data</code>  \n",
    "<code>           │                     │</code>  \n",
    "<code>           │                     │</code>  \n",
    "<code>           │                     ↓</code> \n",
    "<code>           │               What defines</code>  \n",
    "<code>           │                  success</code>  \n",
    "<code>           │              3. Evaluation</code>  \n",
    "<code>       Iterating                 │</code>  \n",
    "<code>        process                  │</code>  \n",
    "<code>           │                     ↓</code> \n",
    "<code>           │              What features</code>  \n",
    "<code>           │             should we model</code>  \n",
    "<code>           │               4. Features</code>  \n",
    "<code>           │                     │</code>  \n",
    "<code>           │                     │</code>  \n",
    "<code>           │                     ↓</code> \n",
    "<code>           │            What kind of model</code>  \n",
    "<code>           │              should we use?</code>  \n",
    "<code>           │               5. Modelling</code>  \n",
    "<code>           │                     │</code>  \n",
    "<code>           │                     │</code>  \n",
    "<code>           │                     ↓</code> \n",
    "<code>           │            What have we tried?</code>  \n",
    "<code>           │           what else can we try?</code>  \n",
    "<code>           │              6. Experiments</code>  \n",
    "<code>           │                     │</code>  \n",
    "<code>           └─────────────────────┙</code>  \n"
   ]
  },
  {
   "cell_type": "markdown",
   "metadata": {},
   "source": [
    "## 1. Problem definition\n",
    "\"What problem are we trying to solve?\"\n",
    "  \n",
    "* Supervised\n",
    "* Unsupervised\n",
    "  \n",
    "  \n",
    "* Classification\n",
    "* Regression"
   ]
  }
 ],
 "metadata": {
  "language_info": {
   "name": "python"
  }
 },
 "nbformat": 4,
 "nbformat_minor": 2
}
